{
 "cells": [
  {
   "cell_type": "code",
   "execution_count": 1,
   "metadata": {},
   "outputs": [],
   "source": [
    "from keras import models\n",
    "import pandas as pd\n",
    "import numpy as np\n",
    "import os"
   ]
  },
  {
   "cell_type": "code",
   "execution_count": 2,
   "metadata": {},
   "outputs": [],
   "source": [
    "Training_File_Path = \"./Training_data/\""
   ]
  },
  {
   "cell_type": "code",
   "execution_count": 3,
   "metadata": {},
   "outputs": [
    {
     "data": {
      "text/plain": [
       "['the\\n',\n",
       " '0\\n',\n",
       " ')\\n',\n",
       " '(\\n',\n",
       " 'to\\n',\n",
       " 'in\\n',\n",
       " '00\\n',\n",
       " 'The\\n',\n",
       " '0000\\n',\n",
       " 'is\\n']"
      ]
     },
     "execution_count": 3,
     "metadata": {},
     "output_type": "execute_result"
    }
   ],
   "source": [
    "with open(os.path.join(Training_File_Path,\"vocab250000_from.txt\"), encoding=\"utf-8\") as f:\n",
    "    eng_tokens = f.readlines()\n",
    "eng_tokens[10:20]"
   ]
  },
  {
   "cell_type": "code",
   "execution_count": 23,
   "metadata": {},
   "outputs": [
    {
     "data": {
      "text/plain": [
       "['and\\n',\n",
       " 'Hmmmmmm\\n',\n",
       " 'Yes\\n',\n",
       " 'Yeesssssss\\n',\n",
       " 'hmmm\\n',\n",
       " 'Herh\\n',\n",
       " '0\\n',\n",
       " 'Of\\n',\n",
       " ')\\n',\n",
       " '(\\n']"
      ]
     },
     "execution_count": 23,
     "metadata": {},
     "output_type": "execute_result"
    }
   ],
   "source": [
    "with open(os.path.join(Training_File_Path,\"vocab250000_to.txt\"), encoding=\"utf-8\") as f:\n",
    "    yodish_tokens = f.readlines()\n",
    "yodish_tokens[10:20]"
   ]
  },
  {
   "cell_type": "code",
   "execution_count": 25,
   "metadata": {},
   "outputs": [],
   "source": [
    "yodish_vocab_len = len(yodish_tokens)"
   ]
  },
  {
   "cell_type": "code",
   "execution_count": 5,
   "metadata": {},
   "outputs": [],
   "source": [
    "with open('data.npy', 'rb') as f:\n",
    "    x_train = np.load(f)\n",
    "    x_test = np.load(f)\n",
    "    y_train = np.load(f)\n",
    "    y_test = np.load(f)\n",
    "\n"
   ]
  },
  {
   "cell_type": "code",
   "execution_count": 6,
   "metadata": {},
   "outputs": [],
   "source": [
    "model = models.load_model(\"model_2.keras\")"
   ]
  },
  {
   "cell_type": "code",
   "execution_count": 7,
   "metadata": {},
   "outputs": [],
   "source": [
    "num_preds = 500"
   ]
  },
  {
   "cell_type": "code",
   "execution_count": 8,
   "metadata": {},
   "outputs": [
    {
     "name": "stdout",
     "output_type": "stream",
     "text": [
      "16/16 [==============================] - 15s 783ms/step\n"
     ]
    }
   ],
   "source": [
    "preds = model.predict(x_test[:num_preds])\n",
    "preds = np.argmax(preds,axis=-1)"
   ]
  },
  {
   "cell_type": "code",
   "execution_count": 9,
   "metadata": {},
   "outputs": [],
   "source": [
    "preds_text = []\n",
    "for i in preds:\n",
    "  temp = []\n",
    "  for j in range(len(i)):\n",
    "    t = yodish_tokens[i[j]]\n",
    "    # print(t)\n",
    "    if(t == None):\n",
    "      temp.append('')\n",
    "    else:\n",
    "      temp.append(t)\n",
    "  preds_text.append(' '.join(temp))"
   ]
  },
  {
   "cell_type": "code",
   "execution_count": 10,
   "metadata": {},
   "outputs": [],
   "source": [
    "y_actual = []\n",
    "for i in y_test[:num_preds]:\n",
    "  temp = []\n",
    "  for j in range(len(i)):\n",
    "    t = yodish_tokens[i[j]]\n",
    "    # print(t)\n",
    "    if(t == None):\n",
    "      temp.append('')\n",
    "    else:\n",
    "      temp.append(t)\n",
    "  y_actual.append(' '.join(temp))\n"
   ]
  },
  {
   "cell_type": "code",
   "execution_count": 11,
   "metadata": {},
   "outputs": [],
   "source": [
    "pred_df = pd.DataFrame({\"actual\" : y_actual , \"predicted\" : preds_text})"
   ]
  },
  {
   "cell_type": "code",
   "execution_count": 12,
   "metadata": {},
   "outputs": [
    {
     "data": {
      "text/html": [
       "<div>\n",
       "<style scoped>\n",
       "    .dataframe tbody tr th:only-of-type {\n",
       "        vertical-align: middle;\n",
       "    }\n",
       "\n",
       "    .dataframe tbody tr th {\n",
       "        vertical-align: top;\n",
       "    }\n",
       "\n",
       "    .dataframe thead th {\n",
       "        text-align: right;\n",
       "    }\n",
       "</style>\n",
       "<table border=\"1\" class=\"dataframe\">\n",
       "  <thead>\n",
       "    <tr style=\"text-align: right;\">\n",
       "      <th></th>\n",
       "      <th>actual</th>\n",
       "      <th>predicted</th>\n",
       "    </tr>\n",
       "  </thead>\n",
       "  <tbody>\n",
       "    <tr>\n",
       "      <th>272</th>\n",
       "      <td>Imports\\n from\\n hong\\n kong\\n .\\n Herh\\n herh...</td>\n",
       "      <td>•\\n _PAD\\n _PAD\\n _PAD\\n _PAD\\n _PAD\\n _PAD\\n ...</td>\n",
       "    </tr>\n",
       "    <tr>\n",
       "      <th>354</th>\n",
       "      <td>Distributed\\n ,\\n the\\n following\\n youth\\n ju...</td>\n",
       "      <td>•\\n the\\n _PAD\\n _PAD\\n _PAD\\n _PAD\\n _PAD\\n _...</td>\n",
       "    </tr>\n",
       "    <tr>\n",
       "      <th>373</th>\n",
       "      <td>•\\n exporter\\n guide\\n -\\n czech\\n republic\\n ...</td>\n",
       "      <td>The\\n _PAD\\n _PAD\\n _PAD\\n _PAD\\n _PAD\\n _PAD\\...</td>\n",
       "    </tr>\n",
       "    <tr>\n",
       "      <th>366</th>\n",
       "      <td>•\\n import\\n regulations\\n -\\n panama\\n itcan\\...</td>\n",
       "      <td>•\\n the\\n _PAD\\n _PAD\\n _PAD\\n _PAD\\n _PAD\\n _...</td>\n",
       "    </tr>\n",
       "    <tr>\n",
       "      <th>151</th>\n",
       "      <td>•\\n colouring\\n foodstuffs\\n ,\\n organic\\n ing...</td>\n",
       "      <td>•\\n _PAD\\n _PAD\\n _PAD\\n _PAD\\n _PAD\\n _PAD\\n ...</td>\n",
       "    </tr>\n",
       "    <tr>\n",
       "      <th>249</th>\n",
       "      <td>•\\n hemp\\n seed\\n oil\\n (\\n liquid\\n and\\n cap...</td>\n",
       "      <td>•\\n the\\n _PAD\\n _PAD\\n _PAD\\n _PAD\\n _PAD\\n _...</td>\n",
       "    </tr>\n",
       "    <tr>\n",
       "      <th>351</th>\n",
       "      <td>Uk\\n .\\n _PAD\\n _PAD\\n _PAD\\n _PAD\\n _PAD\\n _P...</td>\n",
       "      <td>•\\n the\\n _PAD\\n _PAD\\n _PAD\\n _PAD\\n _PAD\\n _...</td>\n",
       "    </tr>\n",
       "    <tr>\n",
       "      <th>174</th>\n",
       "      <td>Canada\\n science\\n and\\n technology\\n museum \\...</td>\n",
       "      <td>•\\n _PAD\\n _PAD\\n _PAD\\n _PAD\\n _PAD\\n _PAD\\n ...</td>\n",
       "    </tr>\n",
       "    <tr>\n",
       "      <th>461</th>\n",
       "      <td>Asia\\n and\\n southeast\\n asia\\n .\\n _PAD\\n _PA...</td>\n",
       "      <td>•\\n _PAD\\n _PAD\\n _PAD\\n _PAD\\n _PAD\\n _PAD\\n ...</td>\n",
       "    </tr>\n",
       "    <tr>\n",
       "      <th>398</th>\n",
       "      <td>Facilitating\\n electronic\\n disclosure\\n 0\\n ....</td>\n",
       "      <td>The\\n _PAD\\n _PAD\\n _PAD\\n _PAD\\n _PAD\\n _PAD\\...</td>\n",
       "    </tr>\n",
       "  </tbody>\n",
       "</table>\n",
       "</div>"
      ],
      "text/plain": [
       "                                                actual  \\\n",
       "272  Imports\\n from\\n hong\\n kong\\n .\\n Herh\\n herh...   \n",
       "354  Distributed\\n ,\\n the\\n following\\n youth\\n ju...   \n",
       "373  •\\n exporter\\n guide\\n -\\n czech\\n republic\\n ...   \n",
       "366  •\\n import\\n regulations\\n -\\n panama\\n itcan\\...   \n",
       "151  •\\n colouring\\n foodstuffs\\n ,\\n organic\\n ing...   \n",
       "249  •\\n hemp\\n seed\\n oil\\n (\\n liquid\\n and\\n cap...   \n",
       "351  Uk\\n .\\n _PAD\\n _PAD\\n _PAD\\n _PAD\\n _PAD\\n _P...   \n",
       "174  Canada\\n science\\n and\\n technology\\n museum\n",
       "\\...   \n",
       "461  Asia\\n and\\n southeast\\n asia\\n .\\n _PAD\\n _PA...   \n",
       "398  Facilitating\\n electronic\\n disclosure\\n 0\\n ....   \n",
       "\n",
       "                                             predicted  \n",
       "272  •\\n _PAD\\n _PAD\\n _PAD\\n _PAD\\n _PAD\\n _PAD\\n ...  \n",
       "354  •\\n the\\n _PAD\\n _PAD\\n _PAD\\n _PAD\\n _PAD\\n _...  \n",
       "373  The\\n _PAD\\n _PAD\\n _PAD\\n _PAD\\n _PAD\\n _PAD\\...  \n",
       "366  •\\n the\\n _PAD\\n _PAD\\n _PAD\\n _PAD\\n _PAD\\n _...  \n",
       "151  •\\n _PAD\\n _PAD\\n _PAD\\n _PAD\\n _PAD\\n _PAD\\n ...  \n",
       "249  •\\n the\\n _PAD\\n _PAD\\n _PAD\\n _PAD\\n _PAD\\n _...  \n",
       "351  •\\n the\\n _PAD\\n _PAD\\n _PAD\\n _PAD\\n _PAD\\n _...  \n",
       "174  •\\n _PAD\\n _PAD\\n _PAD\\n _PAD\\n _PAD\\n _PAD\\n ...  \n",
       "461  •\\n _PAD\\n _PAD\\n _PAD\\n _PAD\\n _PAD\\n _PAD\\n ...  \n",
       "398  The\\n _PAD\\n _PAD\\n _PAD\\n _PAD\\n _PAD\\n _PAD\\...  "
      ]
     },
     "execution_count": 12,
     "metadata": {},
     "output_type": "execute_result"
    }
   ],
   "source": [
    "pred_df.sample(10)"
   ]
  },
  {
   "cell_type": "code",
   "execution_count": 13,
   "metadata": {},
   "outputs": [
    {
     "data": {
      "text/plain": [
       "array([[ 8,  7,  0,  0,  0,  0,  0,  0,  0,  0,  0,  0,  0,  0,  0],\n",
       "       [ 8,  0,  0,  0,  0,  0,  0,  0,  0,  0,  0,  0,  0,  0,  0],\n",
       "       [ 8,  0,  0,  0,  0,  0,  0,  0,  0,  0,  0,  0,  0,  0,  0],\n",
       "       [ 8,  7,  0,  0,  0,  0,  0,  0,  0,  0,  0,  0,  0,  0,  0],\n",
       "       [ 8,  0,  0,  0,  0,  0,  0,  0,  0,  0,  0,  0,  0,  0,  0],\n",
       "       [37,  0,  0,  0,  0,  0,  0,  0,  0,  0,  0,  0,  0,  0,  0],\n",
       "       [ 8,  7,  0,  0,  0,  0,  0,  0,  0,  0,  0,  0,  0,  0,  0],\n",
       "       [37,  0,  0,  0,  0,  0,  0,  0,  0,  0,  0,  0,  0,  0,  0],\n",
       "       [ 8,  0,  0,  0,  0,  0,  0,  0,  0,  0,  0,  0,  0,  0,  0],\n",
       "       [ 8,  0,  0,  0,  0,  0,  0,  0,  0,  0,  0,  0,  0,  0,  0],\n",
       "       [37,  0,  0,  0,  0,  0,  0,  0,  0,  0,  0,  0,  0,  0,  0],\n",
       "       [37,  0,  0,  0,  0,  0,  0,  0,  0,  0,  0,  0,  0,  0,  0],\n",
       "       [ 8,  0,  0,  0,  0,  0,  0,  0,  0,  0,  0,  0,  0,  0,  0],\n",
       "       [37,  0,  0,  0,  0,  0,  0,  0,  0,  0,  0,  0,  0,  0,  0],\n",
       "       [ 8,  0,  0,  0,  0,  0,  0,  0,  0,  0,  0,  0,  0,  0,  0],\n",
       "       [ 8,  0,  0,  0,  0,  0,  0,  0,  0,  0,  0,  0,  0,  0,  0],\n",
       "       [ 8,  0,  0,  0,  0,  0,  0,  0,  0,  0,  0,  0,  0,  0,  0],\n",
       "       [37,  0,  0,  0,  0,  0,  0,  0,  0,  0,  0,  0,  0,  0,  0],\n",
       "       [37,  0,  0,  0,  0,  0,  0,  0,  0,  0,  0,  0,  0,  0,  0],\n",
       "       [17,  0,  0,  0,  0,  0,  0,  0,  0,  0,  0,  0,  0,  0,  0]],\n",
       "      dtype=int64)"
      ]
     },
     "execution_count": 13,
     "metadata": {},
     "output_type": "execute_result"
    }
   ],
   "source": [
    "preds[100:120]"
   ]
  },
  {
   "cell_type": "code",
   "execution_count": 35,
   "metadata": {},
   "outputs": [],
   "source": [
    "preds_text = []\n",
    "for i in y_train[:num_preds]:\n",
    "  temp = []\n",
    "  for j in range(len(i)):\n",
    "    # print(i[j])\n",
    "    if i[j] < yodish_vocab_len:\n",
    "      t = yodish_tokens[i[j]]\n",
    "      \n",
    "      if(t == None):\n",
    "        temp.append('')\n",
    "      else:\n",
    "        temp.append(t)\n",
    "  preds_text.append(' '.join(temp))"
   ]
  },
  {
   "cell_type": "code",
   "execution_count": 36,
   "metadata": {},
   "outputs": [
    {
     "data": {
      "text/plain": [
       "['• great lakes / st . Lawrence seaway system . Hmmmmmm . _PAD _PAD _PAD',\n",
       " 'Of contents previous | table . _PAD _PAD _PAD _PAD _PAD _PAD _PAD _PAD _PAD',\n",
       " 'Emergency preparedness see safety , emergencies and disasters\\u2028 00 . Herh herh herh . _PAD',\n",
       " '• kroger - to cincinnati buying function transitioning , ohio . _PAD _PAD _PAD _PAD',\n",
       " '• manitoba bison association . Hmmmmmm . _PAD _PAD _PAD _PAD _PAD _PAD _PAD _PAD',\n",
       " 'United denmark kingdom netherlands . _PAD _PAD _PAD _PAD _PAD _PAD _PAD _PAD _PAD _PAD',\n",
       " 'Sweden $0m 0 . Hmmmmmm . _PAD _PAD _PAD _PAD _PAD _PAD _PAD _PAD _PAD',\n",
       " '• crude oil ; Herh herh herh . _PAD _PAD _PAD _PAD _PAD _PAD _PAD',\n",
       " 'Of position reclassifications\\u2028 [ 0000-00-00 ] transport canada disclosure : _PAD _PAD _PAD _PAD _PAD',\n",
       " 'Shipping samples to . Yeesssssss . _PAD _PAD _PAD _PAD _PAD _PAD _PAD _PAD _PAD',\n",
       " '• exhibitor-specific market and commercialization information ; Yeesssssss . _PAD _PAD _PAD _PAD _PAD _PAD',\n",
       " 'Canada learning bond\\u2028 0 . _PAD _PAD _PAD _PAD _PAD _PAD _PAD _PAD _PAD _PAD',\n",
       " 'To clients • ollg provides legal and legal policy advice . _PAD _PAD _PAD _PAD',\n",
       " 'Method in a wine glass , mix all ingredients together . _PAD _PAD _PAD _PAD',\n",
       " 'Sector specific databases . _PAD _PAD _PAD _PAD _PAD _PAD _PAD _PAD _PAD _PAD _PAD',\n",
       " 'The daily\\u2028 [ 0000-00-00 ] atlantic canada opportunities agency : _PAD _PAD _PAD _PAD _PAD',\n",
       " 'Palais des congrès de montréal\\u2028access : Hmmmmmm . _PAD _PAD _PAD _PAD _PAD _PAD _PAD',\n",
       " '• signed contracts . Herh herh herh . _PAD _PAD _PAD _PAD _PAD _PAD _PAD',\n",
       " 'As extra protein some sailors just saw the insects . Herh herh herh . _PAD',\n",
       " 'For dealing with your distributor tips . _PAD _PAD _PAD _PAD _PAD _PAD _PAD _PAD']"
      ]
     },
     "execution_count": 36,
     "metadata": {},
     "output_type": "execute_result"
    }
   ],
   "source": [
    "for i in range(len(preds_text)):\n",
    "    preds_text[i] = preds_text[i].replace('\\n','')\n",
    "preds_text[:20]"
   ]
  },
  {
   "cell_type": "code",
   "execution_count": null,
   "metadata": {},
   "outputs": [],
   "source": []
  }
 ],
 "metadata": {
  "kernelspec": {
   "display_name": "Python 3",
   "language": "python",
   "name": "python3"
  },
  "language_info": {
   "codemirror_mode": {
    "name": "ipython",
    "version": 3
   },
   "file_extension": ".py",
   "mimetype": "text/x-python",
   "name": "python",
   "nbconvert_exporter": "python",
   "pygments_lexer": "ipython3",
   "version": "3.10.2"
  },
  "orig_nbformat": 4
 },
 "nbformat": 4,
 "nbformat_minor": 2
}
