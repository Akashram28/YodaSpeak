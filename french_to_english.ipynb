{
  "cells": [
    {
      "cell_type": "code",
      "execution_count": null,
      "metadata": {
        "id": "HSb298_w-wwE"
      },
      "outputs": [],
      "source": [
        "import string\n",
        "import re\n",
        "import numpy as np\n",
        "import pandas as pd\n",
        "from keras.models import Sequential,load_model\n",
        "from keras.layers import Dense, LSTM, Embedding, RepeatVector\n",
        "from keras.preprocessing.text import Tokenizer\n",
        "from keras import optimizers\n",
        "import matplotlib.pyplot as plt\n",
        "%matplotlib inline\n",
        "pd.set_option('display.max_colwidth',200)\n"
      ]
    },
    {
      "cell_type": "code",
      "source": [
        "from google.colab import drive\n",
        "drive.mount('/content/drive')"
      ],
      "metadata": {
        "colab": {
          "base_uri": "https://localhost:8080/"
        },
        "id": "wNJ_1IeG_UCO",
        "outputId": "52147dfa-7c94-437d-c6e2-babe8f62603b"
      },
      "execution_count": null,
      "outputs": [
        {
          "output_type": "stream",
          "name": "stdout",
          "text": [
            "Drive already mounted at /content/drive; to attempt to forcibly remount, call drive.mount(\"/content/drive\", force_remount=True).\n"
          ]
        }
      ]
    },
    {
      "cell_type": "code",
      "execution_count": null,
      "metadata": {
        "colab": {
          "base_uri": "https://localhost:8080/"
        },
        "id": "sBNaknVQ-wwG",
        "outputId": "b9f19b30-e596-41de-883f-75bee3e9c01c"
      },
      "outputs": [
        {
          "output_type": "stream",
          "name": "stderr",
          "text": [
            "IOPub data rate exceeded.\n",
            "The notebook server will temporarily stop sending output\n",
            "to the client in order to avoid crashing it.\n",
            "To change this limit, set the config variable\n",
            "`--NotebookApp.iopub_data_rate_limit`.\n",
            "\n",
            "Current values:\n",
            "NotebookApp.iopub_data_rate_limit=1000000.0 (bytes/sec)\n",
            "NotebookApp.rate_limit_window=3.0 (secs)\n",
            "\n"
          ]
        }
      ],
      "source": [
        "data_path = \"/content/drive/MyDrive/Model_Data/French_to_English/fra.txt\"\n",
        "\n",
        "with open(data_path, 'r' ,encoding='utf-8') as f:\n",
        "    lines = f.read()\n",
        "\n",
        "print(lines)"
      ]
    },
    {
      "cell_type": "code",
      "execution_count": null,
      "metadata": {
        "id": "116dZUUM-wwI"
      },
      "outputs": [],
      "source": [
        "def to_lines(text):\n",
        "    sents = text.strip().split('\\n')\n",
        "    sents = [i.split('\\t') for i in sents]\n",
        "    return sents"
      ]
    },
    {
      "cell_type": "code",
      "execution_count": null,
      "metadata": {
        "colab": {
          "base_uri": "https://localhost:8080/"
        },
        "id": "qgsmAI91-wwI",
        "outputId": "4774e657-7172-4fb5-c5ef-79b3544e23ed"
      },
      "outputs": [
        {
          "output_type": "execute_result",
          "data": {
            "text/plain": [
              "[['Go.',\n",
              "  'Va !',\n",
              "  'CC-BY 2.0 (France) Attribution: tatoeba.org #2877272 (CM) & #1158250 (Wittydev)'],\n",
              " ['Hi.',\n",
              "  'Salut !',\n",
              "  'CC-BY 2.0 (France) Attribution: tatoeba.org #538123 (CM) & #509819 (Aiji)'],\n",
              " ['Hi.',\n",
              "  'Salut.',\n",
              "  'CC-BY 2.0 (France) Attribution: tatoeba.org #538123 (CM) & #4320462 (gillux)'],\n",
              " ['Run!',\n",
              "  'Cours\\u202f!',\n",
              "  'CC-BY 2.0 (France) Attribution: tatoeba.org #906328 (papabear) & #906331 (sacredceltic)'],\n",
              " ['Run!',\n",
              "  'Courez\\u202f!',\n",
              "  'CC-BY 2.0 (France) Attribution: tatoeba.org #906328 (papabear) & #906332 (sacredceltic)']]"
            ]
          },
          "metadata": {},
          "execution_count": 63
        }
      ],
      "source": [
        "fra_eng = to_lines(lines)\n",
        "fra_eng[:5]"
      ]
    },
    {
      "cell_type": "code",
      "execution_count": null,
      "metadata": {
        "colab": {
          "base_uri": "https://localhost:8080/"
        },
        "id": "i2--MI4Q-wwJ",
        "outputId": "a04be5bb-97ec-4146-b3ba-31f1b1b28fa4"
      },
      "outputs": [
        {
          "output_type": "execute_result",
          "data": {
            "text/plain": [
              "(177210, 3)"
            ]
          },
          "metadata": {},
          "execution_count": 64
        }
      ],
      "source": [
        "fra_eng = np.array(fra_eng)\n",
        "fra_eng.shape"
      ]
    },
    {
      "cell_type": "code",
      "execution_count": null,
      "metadata": {
        "colab": {
          "base_uri": "https://localhost:8080/"
        },
        "id": "aGimp49j-wwJ",
        "outputId": "b153e39c-4bd8-4f58-9e75-419548eeb755"
      },
      "outputs": [
        {
          "output_type": "execute_result",
          "data": {
            "text/plain": [
              "array([['I think he likes me.', \"Je pense qu'il m'apprécie.\"],\n",
              "       ['I think she is sick.', \"Je crois qu'elle est malade.\"],\n",
              "       [\"I think she's forty.\", \"Je pense qu'elle a quarante ans.\"],\n",
              "       [\"I think that's best.\", \"Je pense que c'est mieux.\"],\n",
              "       [\"I think that's fair.\", \"Je pense que c'est juste.\"]],\n",
              "      dtype='<U325')"
            ]
          },
          "metadata": {},
          "execution_count": 65
        }
      ],
      "source": [
        "fra_eng = fra_eng[30000:50000]\n",
        "fra_eng = fra_eng[:,[0,1]]\n",
        "fra_eng[:5]"
      ]
    },
    {
      "cell_type": "code",
      "execution_count": null,
      "metadata": {
        "colab": {
          "base_uri": "https://localhost:8080/"
        },
        "id": "Ew13GjHX-wwJ",
        "outputId": "96253975-e659-452f-9599-0aabe87567a3"
      },
      "outputs": [
        {
          "output_type": "execute_result",
          "data": {
            "text/plain": [
              "array([['I think he likes me', 'Je pense quil mapprécie'],\n",
              "       ['I think she is sick', 'Je crois quelle est malade'],\n",
              "       ['I think shes forty', 'Je pense quelle a quarante ans'],\n",
              "       ['I think thats best', 'Je pense que cest mieux'],\n",
              "       ['I think thats fair', 'Je pense que cest juste']], dtype='<U325')"
            ]
          },
          "metadata": {},
          "execution_count": 66
        }
      ],
      "source": [
        "fra_eng[:,0] = [s.translate(str.maketrans('','',string.punctuation)) for s in fra_eng[:,0]]\n",
        "fra_eng[:,1] = [s.translate(str.maketrans('','',string.punctuation)) for s in fra_eng[:,1]]\n",
        "fra_eng[:5]"
      ]
    },
    {
      "cell_type": "code",
      "execution_count": null,
      "metadata": {
        "id": "w1lHzh6c-wwJ"
      },
      "outputs": [],
      "source": [
        "for i in range(len(fra_eng)):\n",
        "    fra_eng[i,0] = fra_eng[i,0].lower()\n",
        "    fra_eng[i,1] = fra_eng[i,1].lower()\n"
      ]
    },
    {
      "cell_type": "code",
      "execution_count": null,
      "metadata": {
        "colab": {
          "base_uri": "https://localhost:8080/"
        },
        "id": "APCRnU6o-wwJ",
        "outputId": "694b1889-b0d8-4e55-81de-5a5d6b6ed5f4"
      },
      "outputs": [
        {
          "output_type": "execute_result",
          "data": {
            "text/plain": [
              "array([['i think he likes me', 'je pense quil mapprécie'],\n",
              "       ['i think she is sick', 'je crois quelle est malade'],\n",
              "       ['i think shes forty', 'je pense quelle a quarante ans'],\n",
              "       ...,\n",
              "       ['may i have a timetable', 'puisje disposer dun horaire '],\n",
              "       ['may i introduce myself', 'puisje me présenter '],\n",
              "       ['may i look at the menu', 'puisje jeter un coup dœil au menu ']],\n",
              "      dtype='<U325')"
            ]
          },
          "metadata": {},
          "execution_count": 68
        }
      ],
      "source": [
        "fra_eng"
      ]
    },
    {
      "cell_type": "code",
      "execution_count": null,
      "metadata": {
        "colab": {
          "base_uri": "https://localhost:8080/"
        },
        "id": "qxX97kaA-wwK",
        "outputId": "264d9ccc-2944-4110-9a88-04b110ac1ffa"
      },
      "outputs": [
        {
          "output_type": "stream",
          "name": "stdout",
          "text": [
            "Englise Vocabulary Size :  4245\n"
          ]
        }
      ],
      "source": [
        "def tokenization(lines):\n",
        "    tokenizer = Tokenizer()\n",
        "    tokenizer.fit_on_texts(lines)\n",
        "    return tokenizer\n",
        "\n",
        "eng_tokenizer = tokenization(fra_eng[:,0])\n",
        "eng_vocab_size = len(eng_tokenizer.word_index) + 1\n",
        "\n",
        "eng_length = 8\n",
        "print(\"Englise Vocabulary Size : \" , eng_vocab_size)"
      ]
    },
    {
      "cell_type": "code",
      "execution_count": null,
      "metadata": {
        "colab": {
          "base_uri": "https://localhost:8080/"
        },
        "id": "NYilCV67-wwK",
        "outputId": "2766b55a-2e05-41b3-ba60-455c1ff14423"
      },
      "outputs": [
        {
          "output_type": "stream",
          "name": "stdout",
          "text": [
            "Englise Vocabulary Size :  8679\n"
          ]
        }
      ],
      "source": [
        "fra_tokenizer = tokenization(fra_eng[:,1])\n",
        "fra_vocab_size = len(fra_tokenizer.word_index) + 1\n",
        "\n",
        "fra_length = 8\n",
        "print(\"Englise Vocabulary Size : \" , fra_vocab_size)"
      ]
    },
    {
      "cell_type": "code",
      "execution_count": null,
      "metadata": {
        "id": "4icV_5Z4-wwK"
      },
      "outputs": [],
      "source": [
        "from keras.utils import pad_sequences\n",
        "def encode_sequences(tokenizer,length,lines):\n",
        "    seq = tokenizer.texts_to_sequences(lines)\n",
        "    seq = pad_sequences(seq,maxlen=length,padding=\"post\")\n",
        "    return seq"
      ]
    },
    {
      "cell_type": "code",
      "execution_count": null,
      "metadata": {
        "id": "MrJi2LOf-wwK"
      },
      "outputs": [],
      "source": [
        "from sklearn.model_selection import train_test_split\n",
        "\n",
        "train, test = train_test_split(fra_eng,test_size=0.2,random_state=12)"
      ]
    },
    {
      "cell_type": "code",
      "execution_count": null,
      "metadata": {
        "id": "uGMY_f4V-wwL"
      },
      "outputs": [],
      "source": [
        "x_train = encode_sequences(fra_tokenizer,fra_length,train[:,1])\n",
        "y_train = encode_sequences(eng_tokenizer,eng_length,train[:,0])\n",
        "\n",
        "x_test = encode_sequences(fra_tokenizer,fra_length,test[:,1])\n",
        "y_test = encode_sequences(eng_tokenizer,eng_length,test[:,0])"
      ]
    },
    {
      "cell_type": "code",
      "execution_count": null,
      "metadata": {
        "id": "kMo1x095-wwL"
      },
      "outputs": [],
      "source": [
        "def define_model(in_vocab,out_vocab,in_timesteps,out_timesteps,units):\n",
        "    model = Sequential()\n",
        "    model.add(Embedding(in_vocab,units,input_length=in_timesteps,mask_zero=True))\n",
        "    model.add(LSTM(units))\n",
        "    model.add(RepeatVector(out_timesteps))\n",
        "    model.add(LSTM(units,return_sequences=True))\n",
        "    model.add(Dense(out_vocab,activation=\"softmax\"))\n",
        "    return model"
      ]
    },
    {
      "cell_type": "code",
      "execution_count": null,
      "metadata": {
        "id": "ITBFLDdf-wwL"
      },
      "outputs": [],
      "source": [
        "model = define_model(fra_vocab_size,eng_vocab_size,fra_length,eng_length,512)\n",
        "rms = optimizers.RMSprop(learning_rate = 0.001)\n",
        "model.compile(optimizer=rms,loss='sparse_categorical_crossentropy')"
      ]
    },
    {
      "cell_type": "code",
      "execution_count": null,
      "metadata": {
        "colab": {
          "base_uri": "https://localhost:8080/"
        },
        "id": "ST2fTW-Z-wwL",
        "outputId": "8569cb30-17c1-48fc-af33-d37e122e43fa"
      },
      "outputs": [
        {
          "output_type": "stream",
          "name": "stdout",
          "text": [
            "Epoch 1/10\n",
            "32/32 [==============================] - 144s 4s/step - loss: 4.3772\n",
            "Epoch 2/10\n",
            "32/32 [==============================] - 135s 4s/step - loss: 3.4505\n",
            "Epoch 3/10\n",
            "32/32 [==============================] - 133s 4s/step - loss: 3.3088\n",
            "Epoch 4/10\n",
            "32/32 [==============================] - 133s 4s/step - loss: 3.1967\n",
            "Epoch 5/10\n",
            "32/32 [==============================] - 137s 4s/step - loss: 3.0801\n",
            "Epoch 6/10\n",
            "32/32 [==============================] - 133s 4s/step - loss: 2.9422\n",
            "Epoch 7/10\n",
            "32/32 [==============================] - 133s 4s/step - loss: 2.8201\n",
            "Epoch 8/10\n",
            "32/32 [==============================] - 137s 4s/step - loss: 2.7116\n",
            "Epoch 9/10\n",
            "32/32 [==============================] - 136s 4s/step - loss: 2.6073\n",
            "Epoch 10/10\n",
            "32/32 [==============================] - 134s 4s/step - loss: 2.4886\n"
          ]
        }
      ],
      "source": [
        "history = model.fit(x_train,y_train.reshape(y_train.shape[0],y_train.shape[1],1),batch_size=512,epochs=10)"
      ]
    },
    {
      "cell_type": "code",
      "execution_count": null,
      "metadata": {
        "colab": {
          "base_uri": "https://localhost:8080/"
        },
        "id": "COpk9szN-wwL",
        "outputId": "ff3149e9-43d7-4778-8f11-2ffc42f97ed5"
      },
      "outputs": [
        {
          "output_type": "stream",
          "name": "stdout",
          "text": [
            "125/125 [==============================] - 23s 181ms/step\n"
          ]
        }
      ],
      "source": [
        "preds = model.predict(x_test)\n",
        "preds = np.argmax(preds,axis=-1)"
      ]
    },
    {
      "cell_type": "code",
      "source": [
        "preds.shape"
      ],
      "metadata": {
        "colab": {
          "base_uri": "https://localhost:8080/"
        },
        "id": "WGhCfMdxsI1_",
        "outputId": "b3147667-c1cf-472e-f9da-7eee0a3ff71e"
      },
      "execution_count": null,
      "outputs": [
        {
          "output_type": "execute_result",
          "data": {
            "text/plain": [
              "(4000, 8)"
            ]
          },
          "metadata": {},
          "execution_count": 110
        }
      ]
    },
    {
      "cell_type": "code",
      "source": [
        "def get_word(n,tokenizer):\n",
        "  for word, index in tokenizer.word_index.items():\n",
        "    if index == n:\n",
        "      return word\n",
        "  return None\n"
      ],
      "metadata": {
        "id": "qZeNo9vStNQQ"
      },
      "execution_count": null,
      "outputs": []
    },
    {
      "cell_type": "code",
      "source": [
        "preds_text = []\n",
        "for i in preds:\n",
        "  temp = []\n",
        "  for j in range(len(i)):\n",
        "    t = get_word(i[j],eng_tokenizer)\n",
        "    if j>0:\n",
        "      if (t == get_word(i[j-1], eng_tokenizer)) or (t == None):\n",
        "        temp.append('')\n",
        "      else:\n",
        "          temp.append(t)\n",
        "    else:\n",
        "      if(t == None):\n",
        "        temp.append('')\n",
        "      else:\n",
        "        temp.append(t)\n",
        "  preds_text.append(' '.join(temp))\n"
      ],
      "metadata": {
        "id": "-yF28Z7_tYjy"
      },
      "execution_count": null,
      "outputs": []
    },
    {
      "cell_type": "code",
      "source": [
        "pred_df = pd.DataFrame({\"actual\" : test[:,0] , \"predicted\" : preds_text})"
      ],
      "metadata": {
        "id": "71Tzhnu5uM_3"
      },
      "execution_count": null,
      "outputs": []
    },
    {
      "cell_type": "code",
      "source": [
        "pred_df.sample(15)"
      ],
      "metadata": {
        "colab": {
          "base_uri": "https://localhost:8080/",
          "height": 519
        },
        "id": "4nLI7j1Fug6j",
        "outputId": "91c21208-5ad7-4a91-93a6-af9dad320301"
      },
      "execution_count": null,
      "outputs": [
        {
          "output_type": "execute_result",
          "data": {
            "text/plain": [
              "                      actual           predicted\n",
              "1191   i was heavily sedated    i need to of    \n",
              "1645  how much is the ticket     do you  the    \n",
              "335      those are toms cats  where is your     \n",
              "1307   tom is in there alone     tom is not     \n",
              "296      my gums are swollen        the is      \n",
              "1549    she has a funny face       he has a     \n",
              "2352   why are you even here  why are you so    \n",
              "464     show me how it works        do you      \n",
              "3113   he is a famous artist      this is a     \n",
              "3448  a magnet attracts iron          he a      \n",
              "2424      were being watched     were very      \n",
              "330       thats common sense       tom is a     \n",
              "1369    i am afraid of bears      i was the     \n",
              "3954     im going to college   i not your of    \n",
              "3672    tom sent the flowers    tom is very     "
            ],
            "text/html": [
              "\n",
              "  <div id=\"df-d107016e-6f2d-4c88-af46-cb3e19609922\" class=\"colab-df-container\">\n",
              "    <div>\n",
              "<style scoped>\n",
              "    .dataframe tbody tr th:only-of-type {\n",
              "        vertical-align: middle;\n",
              "    }\n",
              "\n",
              "    .dataframe tbody tr th {\n",
              "        vertical-align: top;\n",
              "    }\n",
              "\n",
              "    .dataframe thead th {\n",
              "        text-align: right;\n",
              "    }\n",
              "</style>\n",
              "<table border=\"1\" class=\"dataframe\">\n",
              "  <thead>\n",
              "    <tr style=\"text-align: right;\">\n",
              "      <th></th>\n",
              "      <th>actual</th>\n",
              "      <th>predicted</th>\n",
              "    </tr>\n",
              "  </thead>\n",
              "  <tbody>\n",
              "    <tr>\n",
              "      <th>1191</th>\n",
              "      <td>i was heavily sedated</td>\n",
              "      <td>i need to of</td>\n",
              "    </tr>\n",
              "    <tr>\n",
              "      <th>1645</th>\n",
              "      <td>how much is the ticket</td>\n",
              "      <td>do you  the</td>\n",
              "    </tr>\n",
              "    <tr>\n",
              "      <th>335</th>\n",
              "      <td>those are toms cats</td>\n",
              "      <td>where is your</td>\n",
              "    </tr>\n",
              "    <tr>\n",
              "      <th>1307</th>\n",
              "      <td>tom is in there alone</td>\n",
              "      <td>tom is not</td>\n",
              "    </tr>\n",
              "    <tr>\n",
              "      <th>296</th>\n",
              "      <td>my gums are swollen</td>\n",
              "      <td>the is</td>\n",
              "    </tr>\n",
              "    <tr>\n",
              "      <th>1549</th>\n",
              "      <td>she has a funny face</td>\n",
              "      <td>he has a</td>\n",
              "    </tr>\n",
              "    <tr>\n",
              "      <th>2352</th>\n",
              "      <td>why are you even here</td>\n",
              "      <td>why are you so</td>\n",
              "    </tr>\n",
              "    <tr>\n",
              "      <th>464</th>\n",
              "      <td>show me how it works</td>\n",
              "      <td>do you</td>\n",
              "    </tr>\n",
              "    <tr>\n",
              "      <th>3113</th>\n",
              "      <td>he is a famous artist</td>\n",
              "      <td>this is a</td>\n",
              "    </tr>\n",
              "    <tr>\n",
              "      <th>3448</th>\n",
              "      <td>a magnet attracts iron</td>\n",
              "      <td>he a</td>\n",
              "    </tr>\n",
              "    <tr>\n",
              "      <th>2424</th>\n",
              "      <td>were being watched</td>\n",
              "      <td>were very</td>\n",
              "    </tr>\n",
              "    <tr>\n",
              "      <th>330</th>\n",
              "      <td>thats common sense</td>\n",
              "      <td>tom is a</td>\n",
              "    </tr>\n",
              "    <tr>\n",
              "      <th>1369</th>\n",
              "      <td>i am afraid of bears</td>\n",
              "      <td>i was the</td>\n",
              "    </tr>\n",
              "    <tr>\n",
              "      <th>3954</th>\n",
              "      <td>im going to college</td>\n",
              "      <td>i not your of</td>\n",
              "    </tr>\n",
              "    <tr>\n",
              "      <th>3672</th>\n",
              "      <td>tom sent the flowers</td>\n",
              "      <td>tom is very</td>\n",
              "    </tr>\n",
              "  </tbody>\n",
              "</table>\n",
              "</div>\n",
              "    <div class=\"colab-df-buttons\">\n",
              "\n",
              "  <div class=\"colab-df-container\">\n",
              "    <button class=\"colab-df-convert\" onclick=\"convertToInteractive('df-d107016e-6f2d-4c88-af46-cb3e19609922')\"\n",
              "            title=\"Convert this dataframe to an interactive table.\"\n",
              "            style=\"display:none;\">\n",
              "\n",
              "  <svg xmlns=\"http://www.w3.org/2000/svg\" height=\"24px\" viewBox=\"0 -960 960 960\">\n",
              "    <path d=\"M120-120v-720h720v720H120Zm60-500h600v-160H180v160Zm220 220h160v-160H400v160Zm0 220h160v-160H400v160ZM180-400h160v-160H180v160Zm440 0h160v-160H620v160ZM180-180h160v-160H180v160Zm440 0h160v-160H620v160Z\"/>\n",
              "  </svg>\n",
              "    </button>\n",
              "\n",
              "  <style>\n",
              "    .colab-df-container {\n",
              "      display:flex;\n",
              "      gap: 12px;\n",
              "    }\n",
              "\n",
              "    .colab-df-convert {\n",
              "      background-color: #E8F0FE;\n",
              "      border: none;\n",
              "      border-radius: 50%;\n",
              "      cursor: pointer;\n",
              "      display: none;\n",
              "      fill: #1967D2;\n",
              "      height: 32px;\n",
              "      padding: 0 0 0 0;\n",
              "      width: 32px;\n",
              "    }\n",
              "\n",
              "    .colab-df-convert:hover {\n",
              "      background-color: #E2EBFA;\n",
              "      box-shadow: 0px 1px 2px rgba(60, 64, 67, 0.3), 0px 1px 3px 1px rgba(60, 64, 67, 0.15);\n",
              "      fill: #174EA6;\n",
              "    }\n",
              "\n",
              "    .colab-df-buttons div {\n",
              "      margin-bottom: 4px;\n",
              "    }\n",
              "\n",
              "    [theme=dark] .colab-df-convert {\n",
              "      background-color: #3B4455;\n",
              "      fill: #D2E3FC;\n",
              "    }\n",
              "\n",
              "    [theme=dark] .colab-df-convert:hover {\n",
              "      background-color: #434B5C;\n",
              "      box-shadow: 0px 1px 3px 1px rgba(0, 0, 0, 0.15);\n",
              "      filter: drop-shadow(0px 1px 2px rgba(0, 0, 0, 0.3));\n",
              "      fill: #FFFFFF;\n",
              "    }\n",
              "  </style>\n",
              "\n",
              "    <script>\n",
              "      const buttonEl =\n",
              "        document.querySelector('#df-d107016e-6f2d-4c88-af46-cb3e19609922 button.colab-df-convert');\n",
              "      buttonEl.style.display =\n",
              "        google.colab.kernel.accessAllowed ? 'block' : 'none';\n",
              "\n",
              "      async function convertToInteractive(key) {\n",
              "        const element = document.querySelector('#df-d107016e-6f2d-4c88-af46-cb3e19609922');\n",
              "        const dataTable =\n",
              "          await google.colab.kernel.invokeFunction('convertToInteractive',\n",
              "                                                    [key], {});\n",
              "        if (!dataTable) return;\n",
              "\n",
              "        const docLinkHtml = 'Like what you see? Visit the ' +\n",
              "          '<a target=\"_blank\" href=https://colab.research.google.com/notebooks/data_table.ipynb>data table notebook</a>'\n",
              "          + ' to learn more about interactive tables.';\n",
              "        element.innerHTML = '';\n",
              "        dataTable['output_type'] = 'display_data';\n",
              "        await google.colab.output.renderOutput(dataTable, element);\n",
              "        const docLink = document.createElement('div');\n",
              "        docLink.innerHTML = docLinkHtml;\n",
              "        element.appendChild(docLink);\n",
              "      }\n",
              "    </script>\n",
              "  </div>\n",
              "\n",
              "\n",
              "<div id=\"df-56d54a57-d509-4769-857f-bb26ef0b658a\">\n",
              "  <button class=\"colab-df-quickchart\" onclick=\"quickchart('df-56d54a57-d509-4769-857f-bb26ef0b658a')\"\n",
              "            title=\"Suggest charts.\"\n",
              "            style=\"display:none;\">\n",
              "\n",
              "<svg xmlns=\"http://www.w3.org/2000/svg\" height=\"24px\"viewBox=\"0 0 24 24\"\n",
              "     width=\"24px\">\n",
              "    <g>\n",
              "        <path d=\"M19 3H5c-1.1 0-2 .9-2 2v14c0 1.1.9 2 2 2h14c1.1 0 2-.9 2-2V5c0-1.1-.9-2-2-2zM9 17H7v-7h2v7zm4 0h-2V7h2v10zm4 0h-2v-4h2v4z\"/>\n",
              "    </g>\n",
              "</svg>\n",
              "  </button>\n",
              "\n",
              "<style>\n",
              "  .colab-df-quickchart {\n",
              "    background-color: #E8F0FE;\n",
              "    border: none;\n",
              "    border-radius: 50%;\n",
              "    cursor: pointer;\n",
              "    display: none;\n",
              "    fill: #1967D2;\n",
              "    height: 32px;\n",
              "    padding: 0 0 0 0;\n",
              "    width: 32px;\n",
              "  }\n",
              "\n",
              "  .colab-df-quickchart:hover {\n",
              "    background-color: #E2EBFA;\n",
              "    box-shadow: 0px 1px 2px rgba(60, 64, 67, 0.3), 0px 1px 3px 1px rgba(60, 64, 67, 0.15);\n",
              "    fill: #174EA6;\n",
              "  }\n",
              "\n",
              "  [theme=dark] .colab-df-quickchart {\n",
              "    background-color: #3B4455;\n",
              "    fill: #D2E3FC;\n",
              "  }\n",
              "\n",
              "  [theme=dark] .colab-df-quickchart:hover {\n",
              "    background-color: #434B5C;\n",
              "    box-shadow: 0px 1px 3px 1px rgba(0, 0, 0, 0.15);\n",
              "    filter: drop-shadow(0px 1px 2px rgba(0, 0, 0, 0.3));\n",
              "    fill: #FFFFFF;\n",
              "  }\n",
              "</style>\n",
              "\n",
              "  <script>\n",
              "    async function quickchart(key) {\n",
              "      const charts = await google.colab.kernel.invokeFunction(\n",
              "          'suggestCharts', [key], {});\n",
              "    }\n",
              "    (() => {\n",
              "      let quickchartButtonEl =\n",
              "        document.querySelector('#df-56d54a57-d509-4769-857f-bb26ef0b658a button');\n",
              "      quickchartButtonEl.style.display =\n",
              "        google.colab.kernel.accessAllowed ? 'block' : 'none';\n",
              "    })();\n",
              "  </script>\n",
              "</div>\n",
              "    </div>\n",
              "  </div>\n"
            ]
          },
          "metadata": {},
          "execution_count": 156
        }
      ]
    },
    {
      "cell_type": "code",
      "source": [
        "model.evaluate(x_test,y_test.reshape(y_test.shape[0],y_test.shape[1],1))"
      ],
      "metadata": {
        "colab": {
          "base_uri": "https://localhost:8080/"
        },
        "id": "riqftppXujnE",
        "outputId": "92f41e5a-1bd9-43ab-d04d-6dffd6dd592e"
      },
      "execution_count": null,
      "outputs": [
        {
          "output_type": "stream",
          "name": "stdout",
          "text": [
            "125/125 [==============================] - 26s 206ms/step - loss: 2.7273\n"
          ]
        },
        {
          "output_type": "execute_result",
          "data": {
            "text/plain": [
              "2.7273478507995605"
            ]
          },
          "metadata": {},
          "execution_count": 147
        }
      ]
    },
    {
      "cell_type": "code",
      "source": [
        "y_test[:5]"
      ],
      "metadata": {
        "colab": {
          "base_uri": "https://localhost:8080/"
        },
        "id": "zg8U-aPBvl7k",
        "outputId": "96f72d35-7b9d-4cb1-d2b4-78cd4ba055f4"
      },
      "execution_count": null,
      "outputs": [
        {
          "output_type": "execute_result",
          "data": {
            "text/plain": [
              "array([[   2,   15,  717,   29,   49,    0,    0,    0],\n",
              "       [   9,   99,    2,  310,    8,    0,    0,    0],\n",
              "       [   1,   24,   13, 2816,    0,    0,    0,    0],\n",
              "       [ 280,    1,  181,  133,    0,    0,    0,    0],\n",
              "       [  16,    2,   50,   78,    7,    0,    0,    0]], dtype=int32)"
            ]
          },
          "metadata": {},
          "execution_count": 148
        }
      ]
    },
    {
      "cell_type": "code",
      "source": [
        "preds[:5]"
      ],
      "metadata": {
        "colab": {
          "base_uri": "https://localhost:8080/"
        },
        "id": "KEjxSYbqvo7J",
        "outputId": "06dc9fb5-7f07-4384-b9de-24a9ea9f41b2"
      },
      "execution_count": null,
      "outputs": [
        {
          "output_type": "execute_result",
          "data": {
            "text/plain": [
              "array([[33, 20, 20,  0,  0,  0,  0,  0],\n",
              "       [ 1, 46, 25,  2,  2,  0,  0,  0],\n",
              "       [ 1, 32,  4, 23,  0,  0,  0,  0],\n",
              "       [41,  1,  2,  2,  0,  0,  0,  0],\n",
              "       [16,  2,  2,  2,  0,  0,  0,  0]])"
            ]
          },
          "metadata": {},
          "execution_count": 149
        }
      ]
    },
    {
      "cell_type": "code",
      "source": [
        "preds[0].shape"
      ],
      "metadata": {
        "colab": {
          "base_uri": "https://localhost:8080/"
        },
        "id": "MuLjcC2PvrcS",
        "outputId": "3110e38e-cc82-4090-b6ac-94d037c60099"
      },
      "execution_count": null,
      "outputs": [
        {
          "output_type": "execute_result",
          "data": {
            "text/plain": [
              "(4245,)"
            ]
          },
          "metadata": {},
          "execution_count": 89
        }
      ]
    },
    {
      "cell_type": "code",
      "source": [
        "words = []\n",
        "indices = []\n",
        "for word, index in eng_tokenizer.word_index.items():\n",
        "  words.append(word)\n",
        "  indices.append(index)\n",
        "\n",
        "word_index = pd.DataFrame({\"word\" : words, \"index\" : indices})\n",
        "word_index.head(10)"
      ],
      "metadata": {
        "colab": {
          "base_uri": "https://localhost:8080/",
          "height": 363
        },
        "id": "F4MoVhRJ7J_c",
        "outputId": "9100a8cb-4d87-4961-fee2-16603cfa34b6"
      },
      "execution_count": null,
      "outputs": [
        {
          "output_type": "execute_result",
          "data": {
            "text/plain": [
              "  word  index\n",
              "0    i      1\n",
              "1  you      2\n",
              "2    a      3\n",
              "3   to      4\n",
              "4   is      5\n",
              "5  the      6\n",
              "6  tom      7\n",
              "7   it      8\n",
              "8   im      9\n",
              "9   he     10"
            ],
            "text/html": [
              "\n",
              "  <div id=\"df-96394e6a-734a-4979-9c9e-1da9c77529f6\" class=\"colab-df-container\">\n",
              "    <div>\n",
              "<style scoped>\n",
              "    .dataframe tbody tr th:only-of-type {\n",
              "        vertical-align: middle;\n",
              "    }\n",
              "\n",
              "    .dataframe tbody tr th {\n",
              "        vertical-align: top;\n",
              "    }\n",
              "\n",
              "    .dataframe thead th {\n",
              "        text-align: right;\n",
              "    }\n",
              "</style>\n",
              "<table border=\"1\" class=\"dataframe\">\n",
              "  <thead>\n",
              "    <tr style=\"text-align: right;\">\n",
              "      <th></th>\n",
              "      <th>word</th>\n",
              "      <th>index</th>\n",
              "    </tr>\n",
              "  </thead>\n",
              "  <tbody>\n",
              "    <tr>\n",
              "      <th>0</th>\n",
              "      <td>i</td>\n",
              "      <td>1</td>\n",
              "    </tr>\n",
              "    <tr>\n",
              "      <th>1</th>\n",
              "      <td>you</td>\n",
              "      <td>2</td>\n",
              "    </tr>\n",
              "    <tr>\n",
              "      <th>2</th>\n",
              "      <td>a</td>\n",
              "      <td>3</td>\n",
              "    </tr>\n",
              "    <tr>\n",
              "      <th>3</th>\n",
              "      <td>to</td>\n",
              "      <td>4</td>\n",
              "    </tr>\n",
              "    <tr>\n",
              "      <th>4</th>\n",
              "      <td>is</td>\n",
              "      <td>5</td>\n",
              "    </tr>\n",
              "    <tr>\n",
              "      <th>5</th>\n",
              "      <td>the</td>\n",
              "      <td>6</td>\n",
              "    </tr>\n",
              "    <tr>\n",
              "      <th>6</th>\n",
              "      <td>tom</td>\n",
              "      <td>7</td>\n",
              "    </tr>\n",
              "    <tr>\n",
              "      <th>7</th>\n",
              "      <td>it</td>\n",
              "      <td>8</td>\n",
              "    </tr>\n",
              "    <tr>\n",
              "      <th>8</th>\n",
              "      <td>im</td>\n",
              "      <td>9</td>\n",
              "    </tr>\n",
              "    <tr>\n",
              "      <th>9</th>\n",
              "      <td>he</td>\n",
              "      <td>10</td>\n",
              "    </tr>\n",
              "  </tbody>\n",
              "</table>\n",
              "</div>\n",
              "    <div class=\"colab-df-buttons\">\n",
              "\n",
              "  <div class=\"colab-df-container\">\n",
              "    <button class=\"colab-df-convert\" onclick=\"convertToInteractive('df-96394e6a-734a-4979-9c9e-1da9c77529f6')\"\n",
              "            title=\"Convert this dataframe to an interactive table.\"\n",
              "            style=\"display:none;\">\n",
              "\n",
              "  <svg xmlns=\"http://www.w3.org/2000/svg\" height=\"24px\" viewBox=\"0 -960 960 960\">\n",
              "    <path d=\"M120-120v-720h720v720H120Zm60-500h600v-160H180v160Zm220 220h160v-160H400v160Zm0 220h160v-160H400v160ZM180-400h160v-160H180v160Zm440 0h160v-160H620v160ZM180-180h160v-160H180v160Zm440 0h160v-160H620v160Z\"/>\n",
              "  </svg>\n",
              "    </button>\n",
              "\n",
              "  <style>\n",
              "    .colab-df-container {\n",
              "      display:flex;\n",
              "      gap: 12px;\n",
              "    }\n",
              "\n",
              "    .colab-df-convert {\n",
              "      background-color: #E8F0FE;\n",
              "      border: none;\n",
              "      border-radius: 50%;\n",
              "      cursor: pointer;\n",
              "      display: none;\n",
              "      fill: #1967D2;\n",
              "      height: 32px;\n",
              "      padding: 0 0 0 0;\n",
              "      width: 32px;\n",
              "    }\n",
              "\n",
              "    .colab-df-convert:hover {\n",
              "      background-color: #E2EBFA;\n",
              "      box-shadow: 0px 1px 2px rgba(60, 64, 67, 0.3), 0px 1px 3px 1px rgba(60, 64, 67, 0.15);\n",
              "      fill: #174EA6;\n",
              "    }\n",
              "\n",
              "    .colab-df-buttons div {\n",
              "      margin-bottom: 4px;\n",
              "    }\n",
              "\n",
              "    [theme=dark] .colab-df-convert {\n",
              "      background-color: #3B4455;\n",
              "      fill: #D2E3FC;\n",
              "    }\n",
              "\n",
              "    [theme=dark] .colab-df-convert:hover {\n",
              "      background-color: #434B5C;\n",
              "      box-shadow: 0px 1px 3px 1px rgba(0, 0, 0, 0.15);\n",
              "      filter: drop-shadow(0px 1px 2px rgba(0, 0, 0, 0.3));\n",
              "      fill: #FFFFFF;\n",
              "    }\n",
              "  </style>\n",
              "\n",
              "    <script>\n",
              "      const buttonEl =\n",
              "        document.querySelector('#df-96394e6a-734a-4979-9c9e-1da9c77529f6 button.colab-df-convert');\n",
              "      buttonEl.style.display =\n",
              "        google.colab.kernel.accessAllowed ? 'block' : 'none';\n",
              "\n",
              "      async function convertToInteractive(key) {\n",
              "        const element = document.querySelector('#df-96394e6a-734a-4979-9c9e-1da9c77529f6');\n",
              "        const dataTable =\n",
              "          await google.colab.kernel.invokeFunction('convertToInteractive',\n",
              "                                                    [key], {});\n",
              "        if (!dataTable) return;\n",
              "\n",
              "        const docLinkHtml = 'Like what you see? Visit the ' +\n",
              "          '<a target=\"_blank\" href=https://colab.research.google.com/notebooks/data_table.ipynb>data table notebook</a>'\n",
              "          + ' to learn more about interactive tables.';\n",
              "        element.innerHTML = '';\n",
              "        dataTable['output_type'] = 'display_data';\n",
              "        await google.colab.output.renderOutput(dataTable, element);\n",
              "        const docLink = document.createElement('div');\n",
              "        docLink.innerHTML = docLinkHtml;\n",
              "        element.appendChild(docLink);\n",
              "      }\n",
              "    </script>\n",
              "  </div>\n",
              "\n",
              "\n",
              "<div id=\"df-8913f6ff-6f60-46a2-9826-19bcb0f868c0\">\n",
              "  <button class=\"colab-df-quickchart\" onclick=\"quickchart('df-8913f6ff-6f60-46a2-9826-19bcb0f868c0')\"\n",
              "            title=\"Suggest charts.\"\n",
              "            style=\"display:none;\">\n",
              "\n",
              "<svg xmlns=\"http://www.w3.org/2000/svg\" height=\"24px\"viewBox=\"0 0 24 24\"\n",
              "     width=\"24px\">\n",
              "    <g>\n",
              "        <path d=\"M19 3H5c-1.1 0-2 .9-2 2v14c0 1.1.9 2 2 2h14c1.1 0 2-.9 2-2V5c0-1.1-.9-2-2-2zM9 17H7v-7h2v7zm4 0h-2V7h2v10zm4 0h-2v-4h2v4z\"/>\n",
              "    </g>\n",
              "</svg>\n",
              "  </button>\n",
              "\n",
              "<style>\n",
              "  .colab-df-quickchart {\n",
              "    background-color: #E8F0FE;\n",
              "    border: none;\n",
              "    border-radius: 50%;\n",
              "    cursor: pointer;\n",
              "    display: none;\n",
              "    fill: #1967D2;\n",
              "    height: 32px;\n",
              "    padding: 0 0 0 0;\n",
              "    width: 32px;\n",
              "  }\n",
              "\n",
              "  .colab-df-quickchart:hover {\n",
              "    background-color: #E2EBFA;\n",
              "    box-shadow: 0px 1px 2px rgba(60, 64, 67, 0.3), 0px 1px 3px 1px rgba(60, 64, 67, 0.15);\n",
              "    fill: #174EA6;\n",
              "  }\n",
              "\n",
              "  [theme=dark] .colab-df-quickchart {\n",
              "    background-color: #3B4455;\n",
              "    fill: #D2E3FC;\n",
              "  }\n",
              "\n",
              "  [theme=dark] .colab-df-quickchart:hover {\n",
              "    background-color: #434B5C;\n",
              "    box-shadow: 0px 1px 3px 1px rgba(0, 0, 0, 0.15);\n",
              "    filter: drop-shadow(0px 1px 2px rgba(0, 0, 0, 0.3));\n",
              "    fill: #FFFFFF;\n",
              "  }\n",
              "</style>\n",
              "\n",
              "  <script>\n",
              "    async function quickchart(key) {\n",
              "      const charts = await google.colab.kernel.invokeFunction(\n",
              "          'suggestCharts', [key], {});\n",
              "    }\n",
              "    (() => {\n",
              "      let quickchartButtonEl =\n",
              "        document.querySelector('#df-8913f6ff-6f60-46a2-9826-19bcb0f868c0 button');\n",
              "      quickchartButtonEl.style.display =\n",
              "        google.colab.kernel.accessAllowed ? 'block' : 'none';\n",
              "    })();\n",
              "  </script>\n",
              "</div>\n",
              "    </div>\n",
              "  </div>\n"
            ]
          },
          "metadata": {},
          "execution_count": 115
        }
      ]
    },
    {
      "cell_type": "code",
      "source": [
        "test_num = 200\n",
        "print(pred_df.iloc[test_num])"
      ],
      "metadata": {
        "colab": {
          "base_uri": "https://localhost:8080/"
        },
        "id": "1cJ9vR-o4iUW",
        "outputId": "23667eb4-df43-4df7-d40a-4e6caa817dcc"
      },
      "execution_count": null,
      "outputs": [
        {
          "output_type": "stream",
          "name": "stdout",
          "text": [
            "actual       whose house is this\n",
            "predicted     this your the     \n",
            "Name: 200, dtype: object\n"
          ]
        }
      ]
    }
  ],
  "metadata": {
    "kernelspec": {
      "display_name": "Python 3",
      "name": "python3"
    },
    "language_info": {
      "codemirror_mode": {
        "name": "ipython",
        "version": 3
      },
      "file_extension": ".py",
      "mimetype": "text/x-python",
      "name": "python",
      "nbconvert_exporter": "python",
      "pygments_lexer": "ipython3",
      "version": "3.10.2"
    },
    "orig_nbformat": 4,
    "colab": {
      "provenance": []
    },
    "accelerator": "TPU"
  },
  "nbformat": 4,
  "nbformat_minor": 0
}